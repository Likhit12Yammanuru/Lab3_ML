{
 "cells": [
  {
   "cell_type": "code",
   "execution_count": 6,
   "id": "4c72e158",
   "metadata": {},
   "outputs": [
    {
     "name": "stdout",
     "output_type": "stream",
     "text": [
      "Class distribution:\n",
      "0    17014\n",
      "1      866\n",
      "Name: fraudulent, dtype: int64\n",
      "One or both class DataFrames are empty. Please check your class labels and data.\n"
     ]
    }
   ],
   "source": [
    "import pandas as pd\n",
    "import numpy as np\n",
    "\n",
    "# Step 1: Load the dataset\n",
    "file_path = \"C:/Users/year3/Documents/fake_job_postings.csv\"\n",
    "data = pd.read_csv(file_path)\n",
    "\n",
    "# Step 2: Extract feature and label columns\n",
    "features = data.iloc[:, :-1]  # all columns except the last\n",
    "labels = data.iloc[:, -1]  # the last column\n",
    "\n",
    "# Step 3: Select only numeric columns for analysis\n",
    "numeric_features = features.select_dtypes(include=[np.number])\n",
    "\n",
    "# Handle missing values in numeric features\n",
    "numeric_features = numeric_features.fillna(numeric_features.mean())\n",
    "\n",
    "# Check the distribution of classes\n",
    "print(\"Class distribution:\")\n",
    "print(labels.value_counts())\n",
    "\n",
    "# Set actual class labels based on the 'fraudulent' column values\n",
    "class_1 = 'telecommuting'  # Assuming 0 corresponds to one class (e.g., non-fraudulent)\n",
    "class_2 = 'has_company_logo' # Assuming 1 corresponds to the other class (e.g., fraudulent)\n",
    "\n",
    "# Extract feature vectors for each class\n",
    "class_1_data = numeric_features[labels == class_1]\n",
    "class_2_data = numeric_features[labels == class_2]\n",
    "\n",
    "# Ensure that the data for each class is not empty\n",
    "if not class_1_data.empty and not class_2_data.empty:\n",
    "    # Calculate the class centroids\n",
    "    centroid_class_1 = np.mean(class_1_data, axis=0)\n",
    "    centroid_class_2 = np.mean(class_2_data, axis=0)\n",
    "\n",
    "    # Output the centroids\n",
    "    print(f\"Centroid of Class {class_1}:\")\n",
    "    print(centroid_class_1)\n",
    "    print(f\"Centroid of Class {class_2}:\")\n",
    "    print(centroid_class_2)\n",
    "\n",
    "else:\n",
    "    print(\"One or both class DataFrames are empty. Please check your class labels and data.\")\n",
    "\n"
   ]
  },
  {
   "cell_type": "code",
   "execution_count": 7,
   "id": "c5a1e665",
   "metadata": {},
   "outputs": [
    {
     "name": "stdout",
     "output_type": "stream",
     "text": [
      "Class distribution:\n",
      "0    17014\n",
      "1      866\n",
      "Name: fraudulent, dtype: int64\n",
      "One or both class DataFrames are empty. Please check your class labels and data.\n"
     ]
    }
   ],
   "source": [
    "import pandas as pd\n",
    "import numpy as np\n",
    "\n",
    "# Step 1: Load the dataset\n",
    "file_path = \"C:/Users/year3/Documents/fake_job_postings.csv\"\n",
    "data = pd.read_csv(file_path)\n",
    "\n",
    "# Step 2: Extract feature and label columns\n",
    "features = data.iloc[:, :-1]  # all columns except the last\n",
    "labels = data.iloc[:, -1]  # the last column\n",
    "\n",
    "# Step 3: Select only numeric columns for analysis\n",
    "numeric_features = features.select_dtypes(include=[np.number])\n",
    "\n",
    "# Handle missing values in numeric features\n",
    "numeric_features = numeric_features.fillna(numeric_features.mean())\n",
    "\n",
    "# Check the distribution of classes\n",
    "print(\"Class distribution:\")\n",
    "print(labels.value_counts())\n",
    "\n",
    "# Set actual class labels based on the 'fraudulent' column values\n",
    "class_1 = 'telecommuting'  # Assuming 0 corresponds to one class (e.g., non-fraudulent)\n",
    "class_2 = 'has_company_logo' # Assuming 1 corresponds to the other class (e.g., fraudulent)\n",
    "\n",
    "# Extract feature vectors for each class\n",
    "class_1_data = numeric_features[labels == class_1]\n",
    "class_2_data = numeric_features[labels == class_2]\n",
    "\n",
    "# Ensure that the data for each class is not empty\n",
    "if not class_1_data.empty and not class_2_data.empty:\n",
    "    # Calculate the class centroids\n",
    "    centroid_class_1 = np.mean(class_1_data, axis=0)\n",
    "    centroid_class_2 = np.mean(class_2_data, axis=0)\n",
    "\n",
    "    # Calculate the spread (standard deviation) for each class\n",
    "    spread_class_1 = np.std(class_1_data, axis=0)\n",
    "    spread_class_2 = np.std(class_2_data, axis=0)\n",
    "\n",
    "    # Output the centroids and spreads\n",
    "    print(f\"Centroid of Class {class_1}:\")\n",
    "    print(centroid_class_1)\n",
    "    print(f\"Spread (Standard Deviation) of Class {class_1}:\")\n",
    "    print(spread_class_1)\n",
    "    \n",
    "    print(f\"Centroid of Class {class_2}:\")\n",
    "    print(centroid_class_2)\n",
    "    print(f\"Spread (Standard Deviation) of Class {class_2}:\")\n",
    "    print(spread_class_2)\n",
    "\n",
    "else:\n",
    "    print(\"One or both class DataFrames are empty. Please check your class labels and data.\")\n"
   ]
  },
  {
   "cell_type": "code",
   "execution_count": null,
   "id": "595dfc93",
   "metadata": {},
   "outputs": [],
   "source": []
  }
 ],
 "metadata": {
  "kernelspec": {
   "display_name": "Python 3 (ipykernel)",
   "language": "python",
   "name": "python3"
  },
  "language_info": {
   "codemirror_mode": {
    "name": "ipython",
    "version": 3
   },
   "file_extension": ".py",
   "mimetype": "text/x-python",
   "name": "python",
   "nbconvert_exporter": "python",
   "pygments_lexer": "ipython3",
   "version": "3.11.4"
  }
 },
 "nbformat": 4,
 "nbformat_minor": 5
}
